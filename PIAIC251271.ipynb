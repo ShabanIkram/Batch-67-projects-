{
 "cells": [
  {
   "cell_type": "code",
   "execution_count": 45,
   "metadata": {},
   "outputs": [
    {
     "name": "stdout",
     "output_type": "stream",
     "text": [
      "Ali\n",
      "Ahmed\n",
      "Umar\n"
     ]
    }
   ],
   "source": [
    "#list of names of friends\n",
    "names = [\"Ali\", \"Ahmed\", \"Umar\"]\n",
    "for name in names:\n",
    "    print(name)"
   ]
  },
  {
   "cell_type": "code",
   "execution_count": 46,
   "metadata": {},
   "outputs": [
    {
     "name": "stdout",
     "output_type": "stream",
     "text": [
      "Hello,Ali! wassup man.\n",
      "Hello,Ahmed! wassup man.\n",
      "Hello,Umar! wassup man.\n"
     ]
    }
   ],
   "source": [
    "#Greetings message\n",
    "names =  [\"Ali\", \"Ahmed\", \"Umar\"]\n",
    "#print greeting message for every friend using loop\n",
    "for name in names:\n",
    "    print(f\"Hello,{name}! wassup man.\")"
   ]
  },
  {
   "cell_type": "code",
   "execution_count": 47,
   "metadata": {},
   "outputs": [
    {
     "name": "stdout",
     "output_type": "stream",
     "text": [
      "I would  like to own a Hilux.\n",
      "I would  like to own a BMW M3.\n"
     ]
    }
   ],
   "source": [
    "#Own list(list of favourite vehicle\"cars\")\n",
    "cars = [\"Hilux\", \"BMW M3\"]#declare a variable name \"cars\" & then make a list\n",
    "for car in cars: #use for loop to print one by one\n",
    "    print(f\"I would  like to own a {car}.\")"
   ]
  },
  {
   "cell_type": "code",
   "execution_count": 48,
   "metadata": {},
   "outputs": [
    {
     "name": "stdout",
     "output_type": "stream",
     "text": [
      "Dear Rajab, \n",
      "With the depth of my heart, I would like you to accept my invitation of Dinner at my place.\n",
      "Dear Jhanzaib, \n",
      "With the depth of my heart, I would like you to accept my invitation of Dinner at my place.\n",
      "Dear Alina, \n",
      "With the depth of my heart, I would like you to accept my invitation of Dinner at my place.\n",
      "Dear Sadia, \n",
      "With the depth of my heart, I would like you to accept my invitation of Dinner at my place.\n"
     ]
    }
   ],
   "source": [
    "#create guest list\n",
    "guests = [\"Rajab\", \"Jhanzaib\", \"Alina\", \"Sadia\"]#declaring a variable named \"guests\" & then creating a list\n",
    "for guest in guests:#for loop to print invitation message one by one\n",
    "    print(f\"Dear {guest}, \\nWith the depth of my heart, I would like you to accept my invitation of Dinner at my place.\")\n"
   ]
  },
  {
   "cell_type": "code",
   "execution_count": 49,
   "metadata": {},
   "outputs": [
    {
     "name": "stdout",
     "output_type": "stream",
     "text": [
      "\n",
      "Unfortunately, Rajab cannot come for dinner.\n",
      "\n",
      "Updated invitation:\n",
      "Dear Jhanzaib, \n",
      "With the depth of my heart, I would like you to accept my invitation of Dinner at my place.\n",
      "Dear Alina, \n",
      "With the depth of my heart, I would like you to accept my invitation of Dinner at my place.\n",
      "Dear Sadia, \n",
      "With the depth of my heart, I would like you to accept my invitation of Dinner at my place.\n",
      "Dear Kamran, \n",
      "With the depth of my heart, I would like you to accept my invitation of Dinner at my place.\n"
     ]
    }
   ],
   "source": [
    "#now again create guest list but this time we are replacing the old name with new one\n",
    "guests = [\"Rajab\", \"Jhanzaib\", \"Alina\", \"Sadia\"]\n",
    "#print message for guest who cannot come at dinner\n",
    "guest_not_coming = \"Rajab\"\n",
    "print(f\"\\nUnfortunately, {guest_not_coming} cannot come for dinner.\")\n",
    "#Now replace the guest who was'nt coming with a guest who is avaialable\n",
    "guests.remove(guest_not_coming)#remove function to remove name from list\n",
    "guests.append(\"Kamran\")#append function to add name in list\n",
    "#print the updated invitation\n",
    "print(\"\\nUpdated invitation:\")\n",
    "for guest in guests:\n",
    "    print(f\"Dear {guest}, \\nWith the depth of my heart, I would like you to accept my invitation of Dinner at my place.\")"
   ]
  },
  {
   "cell_type": "code",
   "execution_count": 50,
   "metadata": {},
   "outputs": [
    {
     "name": "stdout",
     "output_type": "stream",
     "text": [
      "\n",
      "We can invite more guests because, I have arranged a big dinner.\n",
      "\n",
      "\n",
      "New Invitations:\n",
      "Dear Jahangir, \n",
      "With the depth of my heart, I would like you to accept my invitation of Dinner at my place.\n",
      "Dear Jhanzaib, \n",
      "With the depth of my heart, I would like you to accept my invitation of Dinner at my place.\n",
      "Dear Jawad, \n",
      "With the depth of my heart, I would like you to accept my invitation of Dinner at my place.\n",
      "Dear Alina, \n",
      "With the depth of my heart, I would like you to accept my invitation of Dinner at my place.\n",
      "Dear Sadia, \n",
      "With the depth of my heart, I would like you to accept my invitation of Dinner at my place.\n",
      "Dear Kamran, \n",
      "With the depth of my heart, I would like you to accept my invitation of Dinner at my place.\n",
      "Dear Ali, \n",
      "With the depth of my heart, I would like you to accept my invitation of Dinner at my place.\n"
     ]
    }
   ],
   "source": [
    "#Now we have big table of dinner so we have to invite more guests to fill the space\n",
    "#At first we will inform about a big dinner table\n",
    "print(\"\\nWe can invite more guests because, I have arranged a big dinner.\\n\")\n",
    "#enter new guests using insert() & append()\n",
    "guests.insert(0, \"Jahangir\")#will be added in beginning of list\n",
    "guests.insert(2, \"Jawad\")#will be added in middle of list\n",
    "guests.append(\"Ali\")#will be added in the ending of list\n",
    "#print new invitation message\n",
    "print(\"\\nNew Invitations:\")\n",
    "for guest in guests:\n",
    "    print(f\"Dear {guest}, \\nWith the depth of my heart, I would like you to accept my invitation of Dinner at my place.\")"
   ]
  },
  {
   "cell_type": "code",
   "execution_count": 51,
   "metadata": {},
   "outputs": [
    {
     "name": "stdout",
     "output_type": "stream",
     "text": [
      "\n",
      "Unfortunately, my dinner table won't arrive in time, so I can only invite two people for dinner.\n",
      "\n",
      "Dear Ali,\n",
      "I'm so sorry, but I have to cancel your dinner invitation due to limited space.\n",
      "Dear Ahmed,\n",
      "I'm so sorry, but I have to cancel your dinner invitation due to limited space.\n",
      "Dear Haider,\n",
      "I'm so sorry, but I have to cancel your dinner invitation due to limited space.\n",
      "Dear Alina,\n",
      "I'm so sorry, but I have to cancel your dinner invitation due to limited space.\n",
      "\n",
      "Invitations for the remaining guests:\n",
      "Dear Jahangir,\n",
      "You're still invited to dinner at my place.\n",
      "Dear Kamran,\n",
      "You're still invited to dinner at my place.\n",
      "\n",
      "Guest list: []\n"
     ]
    }
   ],
   "source": [
    "guests = [\"Jahangir\", \"Kamran\", \"Alina\", \"Haider\", \"Ahmed\", \"Ali\"]\n",
    "\n",
    "# Print a message about limited space\n",
    "print(\"\\nUnfortunately, my dinner table won't arrive in time, so I can only invite two people for dinner.\\n\")\n",
    "# Remove guests until only two remain\n",
    "while len(guests) > 2:\n",
    "  removed_guest = guests.pop()\n",
    "  print(f\"Dear {removed_guest},\\nI'm so sorry, but I have to cancel your dinner invitation due to limited space.\")\n",
    "# Print text for the remaining guests\n",
    "print(\"\\nInvitations for the remaining guests:\")\n",
    "for guest in guests:\n",
    "  print(f\"Dear {guest},\\nYou're still invited to dinner at my place.\")\n",
    "# Remove the last two names from the list\n",
    "del guests[0:2]\n",
    "# Print the empty list\n",
    "print(\"\\nGuest list:\", guests)"
   ]
  },
  {
   "cell_type": "code",
   "execution_count": 52,
   "metadata": {},
   "outputs": [
    {
     "name": "stdout",
     "output_type": "stream",
     "text": [
      "Original List: ['Oman', 'Egypt', 'China', 'Japan', 'Dubai']\n",
      "Alphabetical Order: ['China', 'Dubai', 'Egypt', 'Japan', 'Oman']\n",
      "Original list: ['Oman', 'Egypt', 'China', 'Japan', 'Dubai']\n",
      "Reverse Alphabetical Order: ['Oman', 'Japan', 'Egypt', 'Dubai', 'China']\n",
      "Original List: ['Oman', 'Egypt', 'China', 'Japan', 'Dubai']\n",
      "Reversed Order: ['Dubai', 'Japan', 'China', 'Egypt', 'Oman']\n",
      "Original list: ['Oman', 'Egypt', 'China', 'Japan', 'Dubai']\n",
      "Alphabetical Order: ['China', 'Dubai', 'Egypt', 'Japan', 'Oman']\n",
      "Reverse Alphabetical Order: ['Oman', 'Japan', 'Egypt', 'Dubai', 'China']\n"
     ]
    }
   ],
   "source": [
    "#Store locations in list\n",
    "locations = [\"Oman\", \"Egypt\", \"China\", \"Japan\", \"Dubai\"]\n",
    "#print the list\n",
    "print(\"Original List:\",locations)\n",
    "#print the list in alphabetical order\n",
    "print(\"Alphabetical Order:\", sorted(locations))#use \"sorted()\" function to print in alphabetical order\n",
    "#print the orignal list again to show it unchanged\n",
    "print(\"Original list:\",locations)\n",
    "#Now print the list in Reverse-Alphabetical order\n",
    "print(\"Reverse Alphabetical Order:\", sorted(locations, reverse=True))\n",
    "#print the original list again\n",
    "print(\"Original List:\",locations)\n",
    "#Reverse the order of list now\n",
    "locations.reverse()\n",
    "print(\"Reversed Order:\",locations)\n",
    "#Reverse the list again to print it in previous original order\n",
    "locations.reverse()\n",
    "print(\"Original list:\",locations)\n",
    "#print the list in alphabetical order\n",
    "locations.sort()\n",
    "print(\"Alphabetical Order:\",locations)\n",
    "#print the list in Reverse alphabetical order\n",
    "locations.sort(reverse=True)\n",
    "print(\"Reverse Alphabetical Order:\",locations)"
   ]
  },
  {
   "cell_type": "code",
   "execution_count": 53,
   "metadata": {},
   "outputs": [
    {
     "name": "stdout",
     "output_type": "stream",
     "text": [
      "\n",
      "Number of guests invited are:6\n"
     ]
    }
   ],
   "source": [
    "#print the number of guest invited in the previous invitation program\n",
    "\n",
    "guests = [\"Jahangir\", \"Kamran\", \"Alina\", \"Haider\", \"Ahmed\", \"Ali\"]\n",
    "print(f\"\\nNumber of guests invited are:{len(guests)}\")"
   ]
  },
  {
   "cell_type": "code",
   "execution_count": 54,
   "metadata": {},
   "outputs": [
    {
     "name": "stdout",
     "output_type": "stream",
     "text": [
      "Original list: ['Python', 'JavaScript', 'Java', 'C++', 'C#', 'PHP']\n",
      "Sorted list: ['C#', 'C++', 'Java', 'JavaScript', 'PHP', 'Python']\n",
      "Original list: ['Python', 'JavaScript', 'Java', 'C++', 'C#', 'PHP']\n",
      "Reverse sorted list: ['Python', 'PHP', 'JavaScript', 'Java', 'C++', 'C#']\n",
      "Original list: ['Python', 'JavaScript', 'Java', 'C++', 'C#', 'PHP']\n",
      "Reversed list: ['PHP', 'C#', 'C++', 'Java', 'JavaScript', 'Python']\n",
      "Original list: ['Python', 'JavaScript', 'Java', 'C++', 'C#', 'PHP']\n",
      "Sorted list: ['C#', 'C++', 'Java', 'JavaScript', 'PHP', 'Python']\n",
      "Reverse sorted list: ['Python', 'PHP', 'JavaScript', 'Java', 'C++', 'C#']\n",
      "Index of 'Java': 3\n",
      "Count of 'Python': 1\n",
      "List after append: ['Python', 'PHP', 'JavaScript', 'Java', 'C++', 'C#', 'Ruby']\n",
      "List after insert: ['Python', 'PHP', 'Go', 'JavaScript', 'Java', 'C++', 'C#', 'Ruby']\n",
      "List after remove: ['Python', 'PHP', 'Go', 'JavaScript', 'Java', 'C++', 'Ruby']\n",
      "Removed language: JavaScript\n",
      "List after pop: ['Python', 'PHP', 'Go', 'Java', 'C++', 'Ruby']\n",
      "Length of the list: 6\n",
      "'Python' is in the list: True\n"
     ]
    }
   ],
   "source": [
    "languages = [\"Python\", \"JavaScript\", \"Java\", \"C++\", \"C#\", \"PHP\"]\n",
    "# Print the original list\n",
    "print(\"Original list:\", languages)\n",
    "# Print the list in alphabetical order\n",
    "print(\"Sorted list:\", sorted(languages))\n",
    "# Print the original list again \n",
    "print(\"Original list:\", languages)\n",
    "# Print the list in reverse alphabetical order\n",
    "print(\"Reverse sorted list:\", sorted(languages, reverse=True))\n",
    "# Print the original list again \n",
    "print(\"Original list:\", languages)\n",
    "# Reverse the order of the list\n",
    "languages.reverse()\n",
    "print(\"Reversed list:\", languages)\n",
    "# Reverse the order of the list again \n",
    "languages.reverse()\n",
    "print(\"Original list:\", languages)\n",
    "# Permanently sort the list in alphabetical order \n",
    "languages.sort()\n",
    "print(\"Sorted list:\", languages)\n",
    "# Permanently sort the list in reverse alphabetical order\n",
    "languages.sort(reverse=True)\n",
    "print(\"Reverse sorted list:\", languages)\n",
    "# Find the index of an element\n",
    "index = languages.index(\"Java\")\n",
    "print(\"Index of 'Java':\", index)\n",
    "# Count the occurrences of an element\n",
    "count = languages.count(\"Python\")\n",
    "print(\"Count of 'Python':\", count) \n",
    "# Add an element to the end of the list\n",
    "languages.append(\"Ruby\")\n",
    "print(\"List after append:\", languages)\n",
    "# Insert an element at a specific position \n",
    "languages.insert(2, \"Go\")#using insert() to insert a specific element\n",
    "print(\"List after insert:\", languages)\n",
    "# Remove an element by value \n",
    "languages.remove(\"C#\")#using remove() to remove an element\n",
    "print(\"List after remove:\", languages)\n",
    "# Remove an element by index using pop()\n",
    "removed_language = languages.pop(3)\n",
    "print(\"Removed language:\", removed_language)\n",
    "print(\"List after pop:\", languages)\n",
    "# measure the length of the list \n",
    "length = len(languages)\n",
    "print(\"Length of the list:\", length)\n",
    "# Check if an element is in the list using 'in'\n",
    "present = \"Python\" in languages\n",
    "print(\"'Python' is in the list:\", present)  # Output: False"
   ]
  },
  {
   "cell_type": "code",
   "execution_count": null,
   "metadata": {},
   "outputs": [],
   "source": []
  }
 ],
 "metadata": {
  "kernelspec": {
   "display_name": "Python 3",
   "language": "python",
   "name": "python3"
  },
  "language_info": {
   "codemirror_mode": {
    "name": "ipython",
    "version": 3
   },
   "file_extension": ".py",
   "mimetype": "text/x-python",
   "name": "python",
   "nbconvert_exporter": "python",
   "pygments_lexer": "ipython3",
   "version": "3.11.9"
  }
 },
 "nbformat": 4,
 "nbformat_minor": 2
}
